{
 "cells": [
  {
   "cell_type": "code",
   "execution_count": null,
   "metadata": {
    "pycharm": {
     "is_executing": true
    },
    "slideshow": {
     "slide_type": "slide"
    }
   },
   "outputs": [],
   "source": [
    "import string\n",
    "from rhymeutil import *\n",
    "from rhymeutil import scheme, rhyme, poem"
   ]
  },
  {
   "cell_type": "code",
   "execution_count": null,
   "metadata": {},
   "outputs": [],
   "source": [
    "riyd = rhyme.get_rhyme_prons(\"read\", \"deed\")"
   ]
  },
  {
   "cell_type": "code",
   "execution_count": null,
   "metadata": {},
   "outputs": [],
   "source": [
    "print(f\"{arpa_to_ipa(riyd[0])}, {arpa_to_ipa(riyd[1])}\")"
   ]
  },
  {
   "cell_type": "code",
   "execution_count": null,
   "metadata": {},
   "outputs": [],
   "source": [
    "rehd = rhyme.get_rhyme_prons(\"read\", \"dead\")"
   ]
  },
  {
   "cell_type": "code",
   "execution_count": null,
   "metadata": {},
   "outputs": [],
   "source": [
    "print(f\"{arpa_to_ipa(rehd[0])}, {arpa_to_ipa(rehd[1])}\")"
   ]
  },
  {
   "cell_type": "code",
   "execution_count": null,
   "metadata": {},
   "outputs": [],
   "source": [
    "s = rhyme.get_rhyme_prons(\"leave\", \"believe\")\n",
    "s"
   ]
  },
  {
   "cell_type": "code",
   "execution_count": null,
   "metadata": {
    "slideshow": {
     "slide_type": "slide"
    }
   },
   "outputs": [],
   "source": [
    "# list gids for poems in the corpus\n",
    "poem.gids()"
   ]
  },
  {
   "cell_type": "code",
   "execution_count": null,
   "metadata": {
    "slideshow": {
     "slide_type": "slide"
    }
   },
   "outputs": [],
   "source": [
    "# annotate lines of poetry\n",
    "def annotate(lines, stanza_size=4, start_line=0):\n",
    "    anno, rsets = scheme.annotate_rhymes(lines)\n",
    "    print(f\"Found {len(rsets)} unique rhyme sets\\n\")\n",
    "    print(\"#\\tid\\tline\")\n",
    "    for i, a in enumerate(anno):\n",
    "        if i < start_line:\n",
    "            continue\n",
    "        if stanza_size > 0 and (i - start_line) % stanza_size == 0:\n",
    "            print(\"-\" * 75)\n",
    "        line, iden = a\n",
    "        print(f\"{i}\\t{iden}\\t{line}\")\n",
    "    return anno, rsets\n",
    "\n",
    "# annotate a poem from the Gutenberg poetry corpus\n",
    "def annotate_poem(gid: int, stanza_size: int = 4, start_line: int = 0):\n",
    "    return annotate(poem.get(gid), stanza_size, start_line)"
   ]
  },
  {
   "cell_type": "code",
   "execution_count": null,
   "metadata": {},
   "outputs": [],
   "source": [
    "anno, rsets = annotate_poem(151)"
   ]
  },
  {
   "cell_type": "code",
   "execution_count": null,
   "metadata": {},
   "outputs": [],
   "source": [
    "rsets"
   ]
  },
  {
   "cell_type": "code",
   "execution_count": null,
   "metadata": {
    "slideshow": {
     "slide_type": "slide"
    }
   },
   "outputs": [],
   "source": [
    "annotate_poem(214, stanza_size=6, start_line=3)"
   ]
  },
  {
   "cell_type": "code",
   "execution_count": null,
   "metadata": {},
   "outputs": [],
   "source": [
    "with open(\"lyrics\", \"r\") as fp:\n",
    "    lyrics = [line.strip() for line in fp.readlines()]\n",
    "    \n",
    "annotate(lyrics, stanza_size=0)"
   ]
  }
 ],
 "metadata": {
  "kernelspec": {
   "display_name": "PyCharm (ml)",
   "language": "python",
   "name": "pycharm-123db0a"
  },
  "language_info": {
   "codemirror_mode": {
    "name": "ipython",
    "version": 3
   },
   "file_extension": ".py",
   "mimetype": "text/x-python",
   "name": "python",
   "nbconvert_exporter": "python",
   "pygments_lexer": "ipython3",
   "version": "3.9.0"
  }
 },
 "nbformat": 4,
 "nbformat_minor": 1
}
