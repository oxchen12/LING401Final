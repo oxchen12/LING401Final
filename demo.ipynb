{
 "cells": [
  {
   "cell_type": "code",
   "execution_count": 1,
   "metadata": {
    "pycharm": {
     "is_executing": true
    },
    "slideshow": {
     "slide_type": "slide"
    }
   },
   "outputs": [],
   "source": [
    "import string\n",
    "from rhymeutil import *\n",
    "from rhymeutil import scheme, rhyme, poem"
   ]
  },
  {
   "cell_type": "code",
   "execution_count": null,
   "metadata": {
    "slideshow": {
     "slide_type": "slide"
    }
   },
   "outputs": [
    {
     "name": "stderr",
     "output_type": "stream",
     "text": [
      "INFO: found Gutenberg poetry corpus on local\n"
     ]
    }
   ],
   "source": [
    "poem.gids()"
   ]
  },
  {
   "cell_type": "code",
   "execution_count": null,
   "metadata": {
    "slideshow": {
     "slide_type": "slide"
    }
   },
   "outputs": [],
   "source": [
    "def annotate(lines, stanza_size=4, start_line=0):\n",
    "    anno, rsets = scheme.annotate_rhymes(lines)\n",
    "    print(f\"Found {len(rsets)} unique rhyme sets\\n\")\n",
    "    print(\"#\\tid\\tline\")\n",
    "    for i, a in enumerate(anno):\n",
    "        if i < start_line:\n",
    "            continue\n",
    "        if stanza_size > 0 and (i - start_line) % stanza_size == 0:\n",
    "            print(\"-\" * 75)\n",
    "        line, iden = a\n",
    "        print(f\"{i}\\t{iden}\\t{line}\")\n",
    "\n",
    "def annotate_poem(gid: int, stanza_size: int = 4, start_line: int = 0):\n",
    "    annotate(poem.get(gid), stanza_size, start_line)"
   ]
  },
  {
   "cell_type": "code",
   "execution_count": null,
   "metadata": {},
   "outputs": [],
   "source": [
    "annotate_poem(151)"
   ]
  },
  {
   "cell_type": "code",
   "execution_count": null,
   "metadata": {
    "slideshow": {
     "slide_type": "slide"
    }
   },
   "outputs": [],
   "source": [
    "annotate_poem(214, stanza_size=6, start_line=3)"
   ]
  },
  {
   "cell_type": "code",
   "execution_count": null,
   "metadata": {},
   "outputs": [],
   "source": [
    "with open(\"lyrics\", \"r\") as fp:\n",
    "    lyrics = [line.strip() for line in fp.readlines()]\n",
    "    \n",
    "annotate(lyrics, stanza_size=0)"
   ]
  }
 ],
 "metadata": {
  "kernelspec": {
   "display_name": "PyCharm (ml)",
   "language": "python",
   "name": "pycharm-123db0a"
  },
  "language_info": {
   "codemirror_mode": {
    "name": "ipython",
    "version": 3
   },
   "file_extension": ".py",
   "mimetype": "text/x-python",
   "name": "python",
   "nbconvert_exporter": "python",
   "pygments_lexer": "ipython3",
   "version": "3.9.0"
  }
 },
 "nbformat": 4,
 "nbformat_minor": 1
}
